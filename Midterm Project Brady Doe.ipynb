{
 "cells": [
  {
   "cell_type": "code",
   "execution_count": 97,
   "id": "5d2d278c",
   "metadata": {},
   "outputs": [],
   "source": [
    "import numpy as np\n",
    "import pandas as pd\n",
    "import matplotlib\n",
    "import matplotlib.pyplot as plt\n",
    "import json"
   ]
  },
  {
   "cell_type": "code",
   "execution_count": null,
   "id": "b93d1af6",
   "metadata": {},
   "outputs": [],
   "source": []
  },
  {
   "cell_type": "code",
   "execution_count": 26,
   "id": "bfcc90b3",
   "metadata": {},
   "outputs": [],
   "source": []
  },
  {
   "cell_type": "code",
   "execution_count": null,
   "id": "b5a5cba0",
   "metadata": {},
   "outputs": [],
   "source": []
  },
  {
   "cell_type": "code",
   "execution_count": 91,
   "id": "48b1dbf7",
   "metadata": {},
   "outputs": [
    {
     "data": {
      "text/plain": [
       "(array([14., 19., 20., 22., 10., 26., 17., 13., 23., 13.]),\n",
       " array([ 1. ,  1.9,  2.8,  3.7,  4.6,  5.5,  6.4,  7.3,  8.2,  9.1, 10. ]),\n",
       " <BarContainer object of 10 artists>)"
      ]
     },
     "execution_count": 91,
     "metadata": {},
     "output_type": "execute_result"
    },
    {
     "data": {
      "image/png": "[encoded data removed]",
      "text/plain": [
       "<Figure size 640x480 with 1 Axes>"
      ]
     },
     "metadata": {},
     "output_type": "display_data"
    }
   ],
   "source": [
    "Numbers = {1: 14, 2: 19, 3: 20, 4: 22, 5: 10, 6: 26, 7: 17, 8: 13, 9: 23, 10: 13}\n",
    "\n",
    "\n",
    "\n",
    "Numbers = [key for key, val in Numbers.items() for _ in range(val)]\n",
    "plt.hist(Numbers, bins=10)"
   ]
  },
  {
   "cell_type": "code",
   "execution_count": null,
   "id": "c728e74c",
   "metadata": {},
   "outputs": [],
   "source": []
  },
  {
   "cell_type": "code",
   "execution_count": 104,
   "id": "c70805a5",
   "metadata": {},
   "outputs": [
    {
     "data": {
      "text/html": [
       "<div>\n",
       "<style scoped>\n",
       "    .dataframe tbody tr th:only-of-type {\n",
       "        vertical-align: middle;\n",
       "    }\n",
       "\n",
       "    .dataframe tbody tr th {\n",
       "        vertical-align: top;\n",
       "    }\n",
       "\n",
       "    .dataframe thead th {\n",
       "        text-align: right;\n",
       "    }\n",
       "</style>\n",
       "<table border=\"1\" class=\"dataframe\">\n",
       "  <thead>\n",
       "    <tr style=\"text-align: right;\">\n",
       "      <th></th>\n",
       "      <th>Order Date</th>\n",
       "      <th>Order ID</th>\n",
       "      <th>Payment Instrument Type</th>\n",
       "      <th>Website</th>\n",
       "      <th>Ordering Customer Email</th>\n",
       "      <th>Shipment Date</th>\n",
       "      <th>Shipping Address Street 1</th>\n",
       "      <th>Order Status</th>\n",
       "      <th>Subtotal</th>\n",
       "      <th>Shipping Charge</th>\n",
       "      <th>Tax Before Promotions</th>\n",
       "      <th>Total Promotions</th>\n",
       "      <th>Tax Charged</th>\n",
       "      <th>Total Charged</th>\n",
       "      <th>Buyer Name</th>\n",
       "    </tr>\n",
       "  </thead>\n",
       "  <tbody>\n",
       "    <tr>\n",
       "      <th>0</th>\n",
       "      <td>2023-01-16</td>\n",
       "      <td>111-5474193-9130635</td>\n",
       "      <td>Mastercard-1624</td>\n",
       "      <td>Amazon.com</td>\n",
       "      <td>bradydoe1@gmail.com</td>\n",
       "      <td>01/17/23</td>\n",
       "      <td>99 Lazell St. Hingham, MA</td>\n",
       "      <td>Shipped</td>\n",
       "      <td>26.99</td>\n",
       "      <td>0.00</td>\n",
       "      <td>1.62</td>\n",
       "      <td>0.0</td>\n",
       "      <td>1.62</td>\n",
       "      <td>28.61</td>\n",
       "      <td>Brady Doe</td>\n",
       "    </tr>\n",
       "    <tr>\n",
       "      <th>1</th>\n",
       "      <td>2022-12-31</td>\n",
       "      <td>111-1645526-0806622</td>\n",
       "      <td>Visa-6664</td>\n",
       "      <td>Amazon.com</td>\n",
       "      <td>bradydoe1@gmail.com</td>\n",
       "      <td>01/01/23</td>\n",
       "      <td>99 Lazell St. Hingham, MA</td>\n",
       "      <td>Shipped</td>\n",
       "      <td>18.99</td>\n",
       "      <td>3.99</td>\n",
       "      <td>1.59</td>\n",
       "      <td>0.0</td>\n",
       "      <td>1.59</td>\n",
       "      <td>20.58</td>\n",
       "      <td>Brady Doe</td>\n",
       "    </tr>\n",
       "    <tr>\n",
       "      <th>2</th>\n",
       "      <td>2022-12-31</td>\n",
       "      <td>111-1645526-0806622</td>\n",
       "      <td>Visa-6664</td>\n",
       "      <td>Amazon.com</td>\n",
       "      <td>bradydoe1@gmail.com</td>\n",
       "      <td>01/01/23</td>\n",
       "      <td>99 Lazell St. Hingham, MA</td>\n",
       "      <td>Shipped</td>\n",
       "      <td>21.99</td>\n",
       "      <td>3.99</td>\n",
       "      <td>1.97</td>\n",
       "      <td>0.0</td>\n",
       "      <td>1.97</td>\n",
       "      <td>23.96</td>\n",
       "      <td>Brady Doe</td>\n",
       "    </tr>\n",
       "    <tr>\n",
       "      <th>3</th>\n",
       "      <td>2022-12-28</td>\n",
       "      <td>110-7482781-0192837</td>\n",
       "      <td>Mastercard-1624</td>\n",
       "      <td>Amazon.com</td>\n",
       "      <td>bradydoe1@gmail.com</td>\n",
       "      <td>12/30/22</td>\n",
       "      <td>99 Lazell St. Hingham, MA</td>\n",
       "      <td>Shipped</td>\n",
       "      <td>43.99</td>\n",
       "      <td>6.99</td>\n",
       "      <td>3.83</td>\n",
       "      <td>0.0</td>\n",
       "      <td>3.32</td>\n",
       "      <td>47.82</td>\n",
       "      <td>Brady Doe</td>\n",
       "    </tr>\n",
       "    <tr>\n",
       "      <th>4</th>\n",
       "      <td>2022-12-23</td>\n",
       "      <td>110-2483472-0192847</td>\n",
       "      <td>Visa-6664</td>\n",
       "      <td>Amazon.com</td>\n",
       "      <td>bradydoe1@gmail.com</td>\n",
       "      <td>12/26/22</td>\n",
       "      <td>99 Lazell St. Hingham, MA</td>\n",
       "      <td>Shipped</td>\n",
       "      <td>12.99</td>\n",
       "      <td>3.99</td>\n",
       "      <td>0.82</td>\n",
       "      <td>0.0</td>\n",
       "      <td>0.82</td>\n",
       "      <td>13.81</td>\n",
       "      <td>Brady Doe</td>\n",
       "    </tr>\n",
       "  </tbody>\n",
       "</table>\n",
       "</div>"
      ],
      "text/plain": [
       "  Order Date             Order ID Payment Instrument Type     Website  \\\n",
       "0 2023-01-16  111-5474193-9130635         Mastercard-1624  Amazon.com   \n",
       "1 2022-12-31  111-1645526-0806622               Visa-6664  Amazon.com   \n",
       "2 2022-12-31  111-1645526-0806622               Visa-6664  Amazon.com   \n",
       "3 2022-12-28  110-7482781-0192837         Mastercard-1624  Amazon.com   \n",
       "4 2022-12-23  110-2483472-0192847               Visa-6664  Amazon.com   \n",
       "\n",
       "  Ordering Customer Email Shipment Date  Shipping Address Street 1  \\\n",
       "0     bradydoe1@gmail.com      01/17/23  99 Lazell St. Hingham, MA   \n",
       "1     bradydoe1@gmail.com      01/01/23  99 Lazell St. Hingham, MA   \n",
       "2     bradydoe1@gmail.com      01/01/23  99 Lazell St. Hingham, MA   \n",
       "3     bradydoe1@gmail.com      12/30/22  99 Lazell St. Hingham, MA   \n",
       "4     bradydoe1@gmail.com      12/26/22  99 Lazell St. Hingham, MA   \n",
       "\n",
       "  Order Status  Subtotal  Shipping Charge  Tax Before Promotions  \\\n",
       "0      Shipped     26.99             0.00                   1.62   \n",
       "1      Shipped     18.99             3.99                   1.59   \n",
       "2      Shipped     21.99             3.99                   1.97   \n",
       "3      Shipped     43.99             6.99                   3.83   \n",
       "4      Shipped     12.99             3.99                   0.82   \n",
       "\n",
       "   Total Promotions  Tax Charged  Total Charged Buyer Name  \n",
       "0               0.0         1.62          28.61  Brady Doe  \n",
       "1               0.0         1.59          20.58  Brady Doe  \n",
       "2               0.0         1.97          23.96  Brady Doe  \n",
       "3               0.0         3.32          47.82  Brady Doe  \n",
       "4               0.0         0.82          13.81  Brady Doe  "
      ]
     },
     "execution_count": 104,
     "metadata": {},
     "output_type": "execute_result"
    }
   ],
   "source": [
    "orders = {\"Order Date\": [\"01/16/23\",\"12/31/22\",\"12/31/22\", \"12/28/22\", \"12/23/22\"]\n",
    "          , \"Order ID\": [\"111-5474193-9130635\",\"111-1645526-0806622\",\"111-1645526-0806622\", \"110-7482781-0192837\", \"110-2483472-0192847\"]\n",
    "          , \"Payment Instrument Type\": [\"Mastercard-1624\", \"Visa-6664\", \"Visa-6664\", \"Mastercard-1624\", \"Visa-6664\"]\n",
    "          , \"Website\": [\"Amazon.com\", \"Amazon.com\", \"Amazon.com\", \"Amazon.com\", \"Amazon.com\", \"Amazon.com\"]\n",
    "          , \"Ordering Customer Email\": [\"bradydoe1@gmail.com\",\"bradydoe1@gmail.com\",\"bradydoe1@gmail.com\",\"bradydoe1@gmail.com\", \"bradydoe1@gmail.com\"]\n",
    "          , \"Shipment Date\": [\"01/17/23\", \"01/01/23\", \"01/01/23\", \"12/30/22\", \"12/26/22\"]\n",
    "          , \"Shipping Address Street 1\": [\"99 Lazell St. Hingham, MA\",\"99 Lazell St. Hingham, MA\",\"99 Lazell St. Hingham, MA\",\"99 Lazell St. Hingham, MA\", \"99 Lazell St. Hingham, MA\"]\n",
    "          , \"Order Status\": [\"Shipped\",\"Shipped\",\"Shipped\", \"Shipped\", \"Shipped\"]\n",
    "          , \"Subtotal\": [26.99, 18.99, 21.99, 43.99, 12.99]\n",
    "          , \"Shipping Charge\": [0.00, 3.99, 3.99, 6.99, 3.99]\n",
    "          , \"Tax Before Promotions\": [1.62, 1.59, 1.97, 3.83, 0.82]\n",
    "          , \"Total Promotions\": [0.00, 0.00, 0.00, 0.00, 0.00]\n",
    "          , \"Tax Charged\": [1.62, 1.59, 1.97, 3.32, 0.82]\n",
    "          , \"Total Charged\": [28.61, 20.58, 23.96, 47.82, 13.81]\n",
    "          , \"Buyer Name\": [\"Brady Doe\", \"Brady Doe\", \"Brady Doe\", \"Brady Doe\", \"Brady Doe\"]\n",
    "}\n",
    "\n",
    "df.head()"
   ]
  },
  {
   "cell_type": "code",
   "execution_count": 68,
   "id": "80a1cb77",
   "metadata": {},
   "outputs": [
    {
     "data": {
      "text/plain": [
       "26.956"
      ]
     },
     "execution_count": 68,
     "metadata": {},
     "output_type": "execute_result"
    }
   ],
   "source": [
    "df[\"Total Charged\"].mean()"
   ]
  },
  {
   "cell_type": "code",
   "execution_count": 69,
   "id": "3ffc0815",
   "metadata": {},
   "outputs": [
    {
     "data": {
      "text/plain": [
       "23.96"
      ]
     },
     "execution_count": 69,
     "metadata": {},
     "output_type": "execute_result"
    }
   ],
   "source": [
    "df[\"Total Charged\"].median()"
   ]
  },
  {
   "cell_type": "code",
   "execution_count": 70,
   "id": "d7f051f6",
   "metadata": {},
   "outputs": [
    {
     "data": {
      "text/plain": [
       "47.82"
      ]
     },
     "execution_count": 70,
     "metadata": {},
     "output_type": "execute_result"
    }
   ],
   "source": [
    "df[\"Total Charged\"].max()"
   ]
  },
  {
   "cell_type": "code",
   "execution_count": 71,
   "id": "daf9fe22",
   "metadata": {},
   "outputs": [
    {
     "data": {
      "text/plain": [
       "13.81"
      ]
     },
     "execution_count": 71,
     "metadata": {},
     "output_type": "execute_result"
    }
   ],
   "source": [
    "df[\"Total Charged\"].min()"
   ]
  },
  {
   "cell_type": "code",
   "execution_count": 74,
   "id": "7a8902f1",
   "metadata": {},
   "outputs": [
    {
     "data": {
      "text/plain": [
       "12.84998949415913"
      ]
     },
     "execution_count": 74,
     "metadata": {},
     "output_type": "execute_result"
    }
   ],
   "source": [
    "df[\"Total Charged\"].std()"
   ]
  },
  {
   "cell_type": "code",
   "execution_count": 77,
   "id": "eb3666be",
   "metadata": {},
   "outputs": [
    {
     "data": {
      "text/plain": [
       "1.864"
      ]
     },
     "execution_count": 77,
     "metadata": {},
     "output_type": "execute_result"
    }
   ],
   "source": [
    "df[\"Tax Charged\"].mean()"
   ]
  },
  {
   "cell_type": "code",
   "execution_count": 76,
   "id": "58686079",
   "metadata": {},
   "outputs": [
    {
     "data": {
      "text/plain": [
       "1.62"
      ]
     },
     "execution_count": 76,
     "metadata": {},
     "output_type": "execute_result"
    }
   ],
   "source": [
    "df[\"Tax Charged\"].median()"
   ]
  },
  {
   "cell_type": "code",
   "execution_count": 79,
   "id": "f3ec952d",
   "metadata": {},
   "outputs": [
    {
     "data": {
      "text/plain": [
       "3.32"
      ]
     },
     "execution_count": 79,
     "metadata": {},
     "output_type": "execute_result"
    }
   ],
   "source": [
    "df[\"Tax Charged\"].max()"
   ]
  },
  {
   "cell_type": "code",
   "execution_count": 78,
   "id": "73fcd9b6",
   "metadata": {},
   "outputs": [
    {
     "data": {
      "text/plain": [
       "0.82"
      ]
     },
     "execution_count": 78,
     "metadata": {},
     "output_type": "execute_result"
    }
   ],
   "source": [
    "df[\"Tax Charged\"].min()"
   ]
  },
  {
   "cell_type": "code",
   "execution_count": 80,
   "id": "649ad5a1",
   "metadata": {},
   "outputs": [
    {
     "data": {
      "text/plain": [
       "0.9159312201251794"
      ]
     },
     "execution_count": 80,
     "metadata": {},
     "output_type": "execute_result"
    }
   ],
   "source": [
    "df[\"Tax Charged\"].std()"
   ]
  },
  {
   "cell_type": "code",
   "execution_count": 109,
   "id": "b111e025",
   "metadata": {},
   "outputs": [
    {
     "data": {
      "text/plain": [
       "<AxesSubplot:xlabel='Order Date'>"
      ]
     },
     "execution_count": 109,
     "metadata": {},
     "output_type": "execute_result"
    },
    {
     "data": {
      "image/png": "[encoded data removed]",
      "text/plain": [
       "<Figure size 640x480 with 1 Axes>"
      ]
     },
     "metadata": {},
     "output_type": "display_data"
    }
   ],
   "source": [
    "df.plot.bar(x='Order Date', y='Total Charged')"
   ]
  },
  {
   "cell_type": "code",
   "execution_count": 108,
   "id": "5e96c485",
   "metadata": {},
   "outputs": [
    {
     "data": {
      "text/plain": [
       "<function matplotlib.pyplot.show(close=None, block=None)>"
      ]
     },
     "execution_count": 108,
     "metadata": {},
     "output_type": "execute_result"
    },
    {
     "data": {
      "image/png": "[encoded data removed]",
      "text/plain": [
       "<Figure size 640x480 with 1 Axes>"
      ]
     },
     "metadata": {},
     "output_type": "display_data"
    }
   ],
   "source": [
    "piegraph = np.array([28.61, 20.58, 23.96, 47.82, 13.81])\n",
    "\n",
    "plt.pie(piegraph)\n",
    "plt.show\n",
    "#Compares the cost of each order to each other"
   ]
  },
  {
   "cell_type": "code",
   "execution_count": 129,
   "id": "9e48de11",
   "metadata": {},
   "outputs": [
    {
     "data": {
      "image/png": "[encoded data removed]",
      "text/plain": [
       "<Figure size 640x480 with 1 Axes>"
      ]
     },
     "metadata": {},
     "output_type": "display_data"
    }
   ],
   "source": [
    "#Comparing Subtotal to tax and shipping\n",
    "x = np.array([0, 1, 2, 3, 4])\n",
    "y = np.array([26.99, 18.99, 21.99, 43.99, 12.99])\n",
    "\n",
    "plt.subplot(2, 1, 1)\n",
    "plt.plot(x,y)\n",
    "\n",
    "x = np.array([0, 1, 2, 3, 4])\n",
    "y = np.array([1.62, 1.59, 1.97, 3.32, 0.82])\n",
    "\n",
    "plt.subplot(2, 1, 1)\n",
    "plt.plot(x,y)\n",
    "\n",
    "\n",
    "x = np.array([0, 1, 2, 3, 4])\n",
    "y = np.array([0.00, 3.99, 3.99, 6.99, 3.99])\n",
    "\n",
    "plt.subplot(2, 1, 1)\n",
    "plt.plot(x,y)\n",
    "\n",
    "\n",
    "plt.show()"
   ]
  },
  {
   "cell_type": "code",
   "execution_count": null,
   "id": "7dd12a7d",
   "metadata": {},
   "outputs": [],
   "source": []
  }
 ],
 "metadata": {
  "kernelspec": {
   "display_name": "Python 3 (ipykernel)",
   "language": "python",
   "name": "python3"
  },
  "language_info": {
   "codemirror_mode": {
    "name": "ipython",
    "version": 3
   },
   "file_extension": ".py",
   "mimetype": "text/x-python",
   "name": "python",
   "nbconvert_exporter": "python",
   "pygments_lexer": "ipython3",
   "version": "3.9.13"
  }
 },
 "nbformat": 4,
 "nbformat_minor": 5
}
